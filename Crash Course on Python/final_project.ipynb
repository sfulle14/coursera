{
 "cells": [
  {
   "cell_type": "markdown",
   "metadata": {},
   "source": [
    "# Final Project - Word Cloud"
   ]
  },
  {
   "cell_type": "markdown",
   "metadata": {},
   "source": [
    "For this project, you'll create a \"word cloud\" from a text by writing a script.  This script needs to process the text, remove punctuation, ignore case and words that do not contain all alphabets, count the frequencies, and ignore uninteresting or irrelevant words.  A dictionary is the output of the `calculate_frequencies` function.  The `wordcloud` module will then generate the image from your dictionary."
   ]
  },
  {
   "cell_type": "markdown",
   "metadata": {},
   "source": [
    "For the input text of your script, you will need to provide a file that contains text only.  For the text itself, you can copy and paste the contents of a website you like.  Or you can use a site like [Project Gutenberg](https://www.gutenberg.org/) to find books that are available online.  You could see what word clouds you can get from famous books, like a Shakespeare play or a novel by Jane Austen. Save this as a .txt file somewhere on your computer.\n",
    "<br><br>\n",
    "Now you will need to upload your input file here so that your script will be able to process it.  To do the upload, you will need an uploader widget.  Run the following cell to perform all the installs and imports for your word cloud script and uploader widget.  It may take a minute for all of this to run and there will be a lot of output messages. But, be patient. Once you get the following final line of output, the code is done executing. Then you can continue on with the rest of the instructions for this notebook.\n",
    "<br><br>\n",
    "**Enabling notebook extension fileupload/extension...**\n",
    "<br>\n",
    "**- Validating: <font color =green>OK</font>**"
   ]
  },
  {
   "cell_type": "code",
   "execution_count": 1,
   "metadata": {
    "scrolled": true
   },
   "outputs": [
    {
     "name": "stdout",
     "output_type": "stream",
     "text": [
      "Requirement already satisfied: wordcloud in /Library/Frameworks/Python.framework/Versions/3.8/lib/python3.8/site-packages (1.8.1)\n",
      "Requirement already satisfied: matplotlib in /Library/Frameworks/Python.framework/Versions/3.8/lib/python3.8/site-packages (from wordcloud) (3.1.3)\n",
      "Requirement already satisfied: numpy>=1.6.1 in /Library/Frameworks/Python.framework/Versions/3.8/lib/python3.8/site-packages (from wordcloud) (1.18.1)\n",
      "Requirement already satisfied: pillow in /Library/Frameworks/Python.framework/Versions/3.8/lib/python3.8/site-packages (from wordcloud) (7.0.0)\n",
      "Requirement already satisfied: pyparsing!=2.0.4,!=2.1.2,!=2.1.6,>=2.0.1 in /Library/Frameworks/Python.framework/Versions/3.8/lib/python3.8/site-packages (from matplotlib->wordcloud) (2.4.6)\n",
      "Requirement already satisfied: python-dateutil>=2.1 in /Library/Frameworks/Python.framework/Versions/3.8/lib/python3.8/site-packages (from matplotlib->wordcloud) (2.8.1)\n",
      "Requirement already satisfied: numpy>=1.6.1 in /Library/Frameworks/Python.framework/Versions/3.8/lib/python3.8/site-packages (from wordcloud) (1.18.1)\n",
      "Requirement already satisfied: kiwisolver>=1.0.1 in /Library/Frameworks/Python.framework/Versions/3.8/lib/python3.8/site-packages (from matplotlib->wordcloud) (1.1.0)\n",
      "Requirement already satisfied: cycler>=0.10 in /Library/Frameworks/Python.framework/Versions/3.8/lib/python3.8/site-packages (from matplotlib->wordcloud) (0.10.0)\n",
      "Requirement already satisfied: six in /Users/stevenfuller/Library/Python/3.8/lib/python/site-packages (from cycler>=0.10->matplotlib->wordcloud) (1.14.0)\n",
      "Requirement already satisfied: setuptools in /Library/Frameworks/Python.framework/Versions/3.8/lib/python3.8/site-packages (from kiwisolver>=1.0.1->matplotlib->wordcloud) (41.2.0)\n",
      "Requirement already satisfied: six in /Users/stevenfuller/Library/Python/3.8/lib/python/site-packages (from cycler>=0.10->matplotlib->wordcloud) (1.14.0)\n",
      "\u001b[33mWARNING: You are using pip version 20.3.1; however, version 21.0.1 is available.\n",
      "You should consider upgrading via the '/Library/Frameworks/Python.framework/Versions/3.8/bin/python3 -m pip install --upgrade pip' command.\u001b[0m\n",
      "Requirement already satisfied: fileupload in /Library/Frameworks/Python.framework/Versions/3.8/lib/python3.8/site-packages (0.1.5)\n",
      "Requirement already satisfied: ipywidgets>=5.1 in /Users/stevenfuller/Library/Python/3.8/lib/python/site-packages (from fileupload) (7.5.1)\n",
      "Requirement already satisfied: traitlets>=4.2 in /Users/stevenfuller/Library/Python/3.8/lib/python/site-packages (from fileupload) (4.3.3)\n",
      "Requirement already satisfied: notebook>=4.2 in /Users/stevenfuller/Library/Python/3.8/lib/python/site-packages (from fileupload) (6.0.3)\n",
      "Requirement already satisfied: traitlets>=4.2 in /Users/stevenfuller/Library/Python/3.8/lib/python/site-packages (from fileupload) (4.3.3)\n",
      "Requirement already satisfied: nbformat>=4.2.0 in /Users/stevenfuller/Library/Python/3.8/lib/python/site-packages (from ipywidgets>=5.1->fileupload) (5.0.6)\n",
      "Requirement already satisfied: ipython>=4.0.0 in /Users/stevenfuller/Library/Python/3.8/lib/python/site-packages (from ipywidgets>=5.1->fileupload) (7.14.0)\n",
      "Requirement already satisfied: ipykernel>=4.5.1 in /Users/stevenfuller/Library/Python/3.8/lib/python/site-packages (from ipywidgets>=5.1->fileupload) (5.3.0)\n",
      "Requirement already satisfied: widgetsnbextension~=3.5.0 in /Users/stevenfuller/Library/Python/3.8/lib/python/site-packages (from ipywidgets>=5.1->fileupload) (3.5.1)\n",
      "Requirement already satisfied: ipython>=4.0.0 in /Users/stevenfuller/Library/Python/3.8/lib/python/site-packages (from ipywidgets>=5.1->fileupload) (7.14.0)\n",
      "Requirement already satisfied: traitlets>=4.2 in /Users/stevenfuller/Library/Python/3.8/lib/python/site-packages (from fileupload) (4.3.3)\n",
      "Requirement already satisfied: tornado>=4.2 in /Users/stevenfuller/Library/Python/3.8/lib/python/site-packages (from ipykernel>=4.5.1->ipywidgets>=5.1->fileupload) (6.0.4)\n",
      "Requirement already satisfied: appnope in /Users/stevenfuller/Library/Python/3.8/lib/python/site-packages (from ipykernel>=4.5.1->ipywidgets>=5.1->fileupload) (0.1.0)\n",
      "Requirement already satisfied: jupyter-client in /Users/stevenfuller/Library/Python/3.8/lib/python/site-packages (from ipykernel>=4.5.1->ipywidgets>=5.1->fileupload) (6.1.3)\n",
      "Requirement already satisfied: decorator in /Library/Frameworks/Python.framework/Versions/3.8/lib/python3.8/site-packages (from ipython>=4.0.0->ipywidgets>=5.1->fileupload) (4.4.1)\n",
      "Requirement already satisfied: pickleshare in /Users/stevenfuller/Library/Python/3.8/lib/python/site-packages (from ipython>=4.0.0->ipywidgets>=5.1->fileupload) (0.7.5)\n",
      "Requirement already satisfied: traitlets>=4.2 in /Users/stevenfuller/Library/Python/3.8/lib/python/site-packages (from fileupload) (4.3.3)\n",
      "Requirement already satisfied: pygments in /Users/stevenfuller/Library/Python/3.8/lib/python/site-packages (from ipython>=4.0.0->ipywidgets>=5.1->fileupload) (2.6.1)\n",
      "Requirement already satisfied: backcall in /Users/stevenfuller/Library/Python/3.8/lib/python/site-packages (from ipython>=4.0.0->ipywidgets>=5.1->fileupload) (0.1.0)\n",
      "Requirement already satisfied: jedi>=0.10 in /Users/stevenfuller/Library/Python/3.8/lib/python/site-packages (from ipython>=4.0.0->ipywidgets>=5.1->fileupload) (0.17.0)\n",
      "Requirement already satisfied: prompt-toolkit!=3.0.0,!=3.0.1,<3.1.0,>=2.0.0 in /Users/stevenfuller/Library/Python/3.8/lib/python/site-packages (from ipython>=4.0.0->ipywidgets>=5.1->fileupload) (3.0.5)\n",
      "Requirement already satisfied: appnope in /Users/stevenfuller/Library/Python/3.8/lib/python/site-packages (from ipykernel>=4.5.1->ipywidgets>=5.1->fileupload) (0.1.0)\n",
      "Requirement already satisfied: pexpect in /Users/stevenfuller/Library/Python/3.8/lib/python/site-packages (from ipython>=4.0.0->ipywidgets>=5.1->fileupload) (4.8.0)\n",
      "Requirement already satisfied: setuptools>=18.5 in /Library/Frameworks/Python.framework/Versions/3.8/lib/python3.8/site-packages (from ipython>=4.0.0->ipywidgets>=5.1->fileupload) (41.2.0)\n",
      "Requirement already satisfied: parso>=0.7.0 in /Users/stevenfuller/Library/Python/3.8/lib/python/site-packages (from jedi>=0.10->ipython>=4.0.0->ipywidgets>=5.1->fileupload) (0.7.0)\n",
      "Requirement already satisfied: traitlets>=4.2 in /Users/stevenfuller/Library/Python/3.8/lib/python/site-packages (from fileupload) (4.3.3)\n",
      "Requirement already satisfied: tornado>=4.2 in /Users/stevenfuller/Library/Python/3.8/lib/python/site-packages (from ipykernel>=4.5.1->ipywidgets>=5.1->fileupload) (6.0.4)\n",
      "Requirement already satisfied: python-dateutil>=2.1 in /Library/Frameworks/Python.framework/Versions/3.8/lib/python3.8/site-packages (from jupyter-client->ipykernel>=4.5.1->ipywidgets>=5.1->fileupload) (2.8.1)\n",
      "Requirement already satisfied: jupyter-core>=4.6.0 in /Users/stevenfuller/Library/Python/3.8/lib/python/site-packages (from jupyter-client->ipykernel>=4.5.1->ipywidgets>=5.1->fileupload) (4.6.3)\n",
      "Requirement already satisfied: pyzmq>=13 in /Users/stevenfuller/Library/Python/3.8/lib/python/site-packages (from jupyter-client->ipykernel>=4.5.1->ipywidgets>=5.1->fileupload) (19.0.1)\n",
      "Requirement already satisfied: traitlets>=4.2 in /Users/stevenfuller/Library/Python/3.8/lib/python/site-packages (from fileupload) (4.3.3)\n",
      "Requirement already satisfied: jsonschema!=2.5.0,>=2.4 in /Users/stevenfuller/Library/Python/3.8/lib/python/site-packages (from nbformat>=4.2.0->ipywidgets>=5.1->fileupload) (3.2.0)\n",
      "Requirement already satisfied: ipython-genutils in /Users/stevenfuller/Library/Python/3.8/lib/python/site-packages (from nbformat>=4.2.0->ipywidgets>=5.1->fileupload) (0.2.0)\n",
      "Requirement already satisfied: traitlets>=4.2 in /Users/stevenfuller/Library/Python/3.8/lib/python/site-packages (from fileupload) (4.3.3)\n",
      "Requirement already satisfied: jupyter-core>=4.6.0 in /Users/stevenfuller/Library/Python/3.8/lib/python/site-packages (from jupyter-client->ipykernel>=4.5.1->ipywidgets>=5.1->fileupload) (4.6.3)\n",
      "Requirement already satisfied: attrs>=17.4.0 in /Users/stevenfuller/Library/Python/3.8/lib/python/site-packages (from jsonschema!=2.5.0,>=2.4->nbformat>=4.2.0->ipywidgets>=5.1->fileupload) (19.3.0)\n",
      "Requirement already satisfied: six>=1.11.0 in /Users/stevenfuller/Library/Python/3.8/lib/python/site-packages (from jsonschema!=2.5.0,>=2.4->nbformat>=4.2.0->ipywidgets>=5.1->fileupload) (1.14.0)\n",
      "Requirement already satisfied: setuptools>=18.5 in /Library/Frameworks/Python.framework/Versions/3.8/lib/python3.8/site-packages (from ipython>=4.0.0->ipywidgets>=5.1->fileupload) (41.2.0)\n",
      "Requirement already satisfied: pyrsistent>=0.14.0 in /Users/stevenfuller/Library/Python/3.8/lib/python/site-packages (from jsonschema!=2.5.0,>=2.4->nbformat>=4.2.0->ipywidgets>=5.1->fileupload) (0.16.0)\n",
      "Requirement already satisfied: terminado>=0.8.1 in /Users/stevenfuller/Library/Python/3.8/lib/python/site-packages (from notebook>=4.2->fileupload) (0.8.3)\n",
      "Requirement already satisfied: jinja2 in /Users/stevenfuller/Library/Python/3.8/lib/python/site-packages (from notebook>=4.2->fileupload) (2.11.2)\n",
      "Requirement already satisfied: ipykernel>=4.5.1 in /Users/stevenfuller/Library/Python/3.8/lib/python/site-packages (from ipywidgets>=5.1->fileupload) (5.3.0)\n",
      "Requirement already satisfied: nbconvert in /Users/stevenfuller/Library/Python/3.8/lib/python/site-packages (from notebook>=4.2->fileupload) (5.6.1)\n",
      "Requirement already satisfied: jupyter-core>=4.6.0 in /Users/stevenfuller/Library/Python/3.8/lib/python/site-packages (from jupyter-client->ipykernel>=4.5.1->ipywidgets>=5.1->fileupload) (4.6.3)\n",
      "Requirement already satisfied: Send2Trash in /Users/stevenfuller/Library/Python/3.8/lib/python/site-packages (from notebook>=4.2->fileupload) (1.5.0)\n",
      "Requirement already satisfied: ipython-genutils in /Users/stevenfuller/Library/Python/3.8/lib/python/site-packages (from nbformat>=4.2.0->ipywidgets>=5.1->fileupload) (0.2.0)\n",
      "Requirement already satisfied: jupyter-client in /Users/stevenfuller/Library/Python/3.8/lib/python/site-packages (from ipykernel>=4.5.1->ipywidgets>=5.1->fileupload) (6.1.3)\n",
      "Requirement already satisfied: pyzmq>=13 in /Users/stevenfuller/Library/Python/3.8/lib/python/site-packages (from jupyter-client->ipykernel>=4.5.1->ipywidgets>=5.1->fileupload) (19.0.1)\n",
      "Requirement already satisfied: nbformat>=4.2.0 in /Users/stevenfuller/Library/Python/3.8/lib/python/site-packages (from ipywidgets>=5.1->fileupload) (5.0.6)\n",
      "Requirement already satisfied: prometheus-client in /Users/stevenfuller/Library/Python/3.8/lib/python/site-packages (from notebook>=4.2->fileupload) (0.8.0)\n",
      "Requirement already satisfied: tornado>=4.2 in /Users/stevenfuller/Library/Python/3.8/lib/python/site-packages (from ipykernel>=4.5.1->ipywidgets>=5.1->fileupload) (6.0.4)\n",
      "Requirement already satisfied: traitlets>=4.2 in /Users/stevenfuller/Library/Python/3.8/lib/python/site-packages (from fileupload) (4.3.3)\n",
      "Requirement already satisfied: MarkupSafe>=0.23 in /Users/stevenfuller/Library/Python/3.8/lib/python/site-packages (from jinja2->notebook>=4.2->fileupload) (1.1.1)\n",
      "Requirement already satisfied: jupyter-core>=4.6.0 in /Users/stevenfuller/Library/Python/3.8/lib/python/site-packages (from jupyter-client->ipykernel>=4.5.1->ipywidgets>=5.1->fileupload) (4.6.3)\n",
      "Requirement already satisfied: testpath in /Users/stevenfuller/Library/Python/3.8/lib/python/site-packages (from nbconvert->notebook>=4.2->fileupload) (0.4.4)\n",
      "Requirement already satisfied: mistune<2,>=0.8.1 in /Users/stevenfuller/Library/Python/3.8/lib/python/site-packages (from nbconvert->notebook>=4.2->fileupload) (0.8.4)\n",
      "Requirement already satisfied: pygments in /Users/stevenfuller/Library/Python/3.8/lib/python/site-packages (from ipython>=4.0.0->ipywidgets>=5.1->fileupload) (2.6.1)\n",
      "Requirement already satisfied: traitlets>=4.2 in /Users/stevenfuller/Library/Python/3.8/lib/python/site-packages (from fileupload) (4.3.3)\n",
      "Requirement already satisfied: bleach in /Users/stevenfuller/Library/Python/3.8/lib/python/site-packages (from nbconvert->notebook>=4.2->fileupload) (3.1.5)\n",
      "Requirement already satisfied: defusedxml in /Users/stevenfuller/Library/Python/3.8/lib/python/site-packages (from nbconvert->notebook>=4.2->fileupload) (0.6.0)\n",
      "Requirement already satisfied: jinja2 in /Users/stevenfuller/Library/Python/3.8/lib/python/site-packages (from notebook>=4.2->fileupload) (2.11.2)\n",
      "Requirement already satisfied: entrypoints>=0.2.2 in /Users/stevenfuller/Library/Python/3.8/lib/python/site-packages (from nbconvert->notebook>=4.2->fileupload) (0.3)\n",
      "Requirement already satisfied: nbformat>=4.2.0 in /Users/stevenfuller/Library/Python/3.8/lib/python/site-packages (from ipywidgets>=5.1->fileupload) (5.0.6)\n",
      "Requirement already satisfied: pandocfilters>=1.4.1 in /Users/stevenfuller/Library/Python/3.8/lib/python/site-packages (from nbconvert->notebook>=4.2->fileupload) (1.4.2)\n",
      "Requirement already satisfied: six>=1.11.0 in /Users/stevenfuller/Library/Python/3.8/lib/python/site-packages (from jsonschema!=2.5.0,>=2.4->nbformat>=4.2.0->ipywidgets>=5.1->fileupload) (1.14.0)\n",
      "Requirement already satisfied: packaging in /Users/stevenfuller/Library/Python/3.8/lib/python/site-packages (from bleach->nbconvert->notebook>=4.2->fileupload) (20.4)\n",
      "Requirement already satisfied: webencodings in /Users/stevenfuller/Library/Python/3.8/lib/python/site-packages (from bleach->nbconvert->notebook>=4.2->fileupload) (0.5.1)\n",
      "Requirement already satisfied: six>=1.11.0 in /Users/stevenfuller/Library/Python/3.8/lib/python/site-packages (from jsonschema!=2.5.0,>=2.4->nbformat>=4.2.0->ipywidgets>=5.1->fileupload) (1.14.0)\n",
      "Requirement already satisfied: pyparsing>=2.0.2 in /Library/Frameworks/Python.framework/Versions/3.8/lib/python3.8/site-packages (from packaging->bleach->nbconvert->notebook>=4.2->fileupload) (2.4.6)\n",
      "Requirement already satisfied: ptyprocess>=0.5 in /Users/stevenfuller/Library/Python/3.8/lib/python/site-packages (from pexpect->ipython>=4.0.0->ipywidgets>=5.1->fileupload) (0.6.0)\n",
      "Requirement already satisfied: wcwidth in /Users/stevenfuller/Library/Python/3.8/lib/python/site-packages (from prompt-toolkit!=3.0.0,!=3.0.1,<3.1.0,>=2.0.0->ipython>=4.0.0->ipywidgets>=5.1->fileupload) (0.1.9)\n",
      "Requirement already satisfied: six>=1.11.0 in /Users/stevenfuller/Library/Python/3.8/lib/python/site-packages (from jsonschema!=2.5.0,>=2.4->nbformat>=4.2.0->ipywidgets>=5.1->fileupload) (1.14.0)\n",
      "Requirement already satisfied: six>=1.11.0 in /Users/stevenfuller/Library/Python/3.8/lib/python/site-packages (from jsonschema!=2.5.0,>=2.4->nbformat>=4.2.0->ipywidgets>=5.1->fileupload) (1.14.0)\n",
      "Requirement already satisfied: ptyprocess>=0.5 in /Users/stevenfuller/Library/Python/3.8/lib/python/site-packages (from pexpect->ipython>=4.0.0->ipywidgets>=5.1->fileupload) (0.6.0)\n",
      "Requirement already satisfied: tornado>=4.2 in /Users/stevenfuller/Library/Python/3.8/lib/python/site-packages (from ipykernel>=4.5.1->ipywidgets>=5.1->fileupload) (6.0.4)\n",
      "Requirement already satisfied: decorator in /Library/Frameworks/Python.framework/Versions/3.8/lib/python3.8/site-packages (from ipython>=4.0.0->ipywidgets>=5.1->fileupload) (4.4.1)\n",
      "Requirement already satisfied: six>=1.11.0 in /Users/stevenfuller/Library/Python/3.8/lib/python/site-packages (from jsonschema!=2.5.0,>=2.4->nbformat>=4.2.0->ipywidgets>=5.1->fileupload) (1.14.0)\n",
      "Requirement already satisfied: ipython-genutils in /Users/stevenfuller/Library/Python/3.8/lib/python/site-packages (from nbformat>=4.2.0->ipywidgets>=5.1->fileupload) (0.2.0)\n",
      "Requirement already satisfied: notebook>=4.2 in /Users/stevenfuller/Library/Python/3.8/lib/python/site-packages (from fileupload) (6.0.3)\n",
      "\u001b[33mWARNING: You are using pip version 20.3.1; however, version 21.0.1 is available.\n",
      "You should consider upgrading via the '/Library/Frameworks/Python.framework/Versions/3.8/bin/python3 -m pip install --upgrade pip' command.\u001b[0m\n",
      "Requirement already satisfied: ipywidgets in /Users/stevenfuller/Library/Python/3.8/lib/python/site-packages (7.5.1)\n",
      "Requirement already satisfied: ipykernel>=4.5.1 in /Users/stevenfuller/Library/Python/3.8/lib/python/site-packages (from ipywidgets) (5.3.0)\n",
      "Requirement already satisfied: nbformat>=4.2.0 in /Users/stevenfuller/Library/Python/3.8/lib/python/site-packages (from ipywidgets) (5.0.6)\n",
      "Requirement already satisfied: widgetsnbextension~=3.5.0 in /Users/stevenfuller/Library/Python/3.8/lib/python/site-packages (from ipywidgets) (3.5.1)\n",
      "Requirement already satisfied: ipython>=4.0.0 in /Users/stevenfuller/Library/Python/3.8/lib/python/site-packages (from ipywidgets) (7.14.0)\n",
      "Requirement already satisfied: traitlets>=4.3.1 in /Users/stevenfuller/Library/Python/3.8/lib/python/site-packages (from ipywidgets) (4.3.3)\n",
      "Requirement already satisfied: appnope in /Users/stevenfuller/Library/Python/3.8/lib/python/site-packages (from ipykernel>=4.5.1->ipywidgets) (0.1.0)\n",
      "Requirement already satisfied: jupyter-client in /Users/stevenfuller/Library/Python/3.8/lib/python/site-packages (from ipykernel>=4.5.1->ipywidgets) (6.1.3)\n",
      "Requirement already satisfied: ipython>=4.0.0 in /Users/stevenfuller/Library/Python/3.8/lib/python/site-packages (from ipywidgets) (7.14.0)\n",
      "Requirement already satisfied: tornado>=4.2 in /Users/stevenfuller/Library/Python/3.8/lib/python/site-packages (from ipykernel>=4.5.1->ipywidgets) (6.0.4)\n",
      "Requirement already satisfied: traitlets>=4.3.1 in /Users/stevenfuller/Library/Python/3.8/lib/python/site-packages (from ipywidgets) (4.3.3)\n",
      "Requirement already satisfied: setuptools>=18.5 in /Library/Frameworks/Python.framework/Versions/3.8/lib/python3.8/site-packages (from ipython>=4.0.0->ipywidgets) (41.2.0)\n",
      "Requirement already satisfied: appnope in /Users/stevenfuller/Library/Python/3.8/lib/python/site-packages (from ipykernel>=4.5.1->ipywidgets) (0.1.0)\n",
      "Requirement already satisfied: pygments in /Users/stevenfuller/Library/Python/3.8/lib/python/site-packages (from ipython>=4.0.0->ipywidgets) (2.6.1)\n",
      "Requirement already satisfied: prompt-toolkit!=3.0.0,!=3.0.1,<3.1.0,>=2.0.0 in /Users/stevenfuller/Library/Python/3.8/lib/python/site-packages (from ipython>=4.0.0->ipywidgets) (3.0.5)\n",
      "Requirement already satisfied: traitlets>=4.3.1 in /Users/stevenfuller/Library/Python/3.8/lib/python/site-packages (from ipywidgets) (4.3.3)\n",
      "Requirement already satisfied: decorator in /Library/Frameworks/Python.framework/Versions/3.8/lib/python3.8/site-packages (from ipython>=4.0.0->ipywidgets) (4.4.1)\n",
      "Requirement already satisfied: jedi>=0.10 in /Users/stevenfuller/Library/Python/3.8/lib/python/site-packages (from ipython>=4.0.0->ipywidgets) (0.17.0)\n",
      "Requirement already satisfied: pexpect in /Users/stevenfuller/Library/Python/3.8/lib/python/site-packages (from ipython>=4.0.0->ipywidgets) (4.8.0)\n",
      "Requirement already satisfied: backcall in /Users/stevenfuller/Library/Python/3.8/lib/python/site-packages (from ipython>=4.0.0->ipywidgets) (0.1.0)\n",
      "Requirement already satisfied: pickleshare in /Users/stevenfuller/Library/Python/3.8/lib/python/site-packages (from ipython>=4.0.0->ipywidgets) (0.7.5)\n",
      "Requirement already satisfied: parso>=0.7.0 in /Users/stevenfuller/Library/Python/3.8/lib/python/site-packages (from jedi>=0.10->ipython>=4.0.0->ipywidgets) (0.7.0)\n",
      "Requirement already satisfied: traitlets>=4.3.1 in /Users/stevenfuller/Library/Python/3.8/lib/python/site-packages (from ipywidgets) (4.3.3)\n",
      "Requirement already satisfied: pyzmq>=13 in /Users/stevenfuller/Library/Python/3.8/lib/python/site-packages (from jupyter-client->ipykernel>=4.5.1->ipywidgets) (19.0.1)\n",
      "Requirement already satisfied: jupyter-core>=4.6.0 in /Users/stevenfuller/Library/Python/3.8/lib/python/site-packages (from jupyter-client->ipykernel>=4.5.1->ipywidgets) (4.6.3)\n",
      "Requirement already satisfied: python-dateutil>=2.1 in /Library/Frameworks/Python.framework/Versions/3.8/lib/python3.8/site-packages (from jupyter-client->ipykernel>=4.5.1->ipywidgets) (2.8.1)\n",
      "Requirement already satisfied: tornado>=4.2 in /Users/stevenfuller/Library/Python/3.8/lib/python/site-packages (from ipykernel>=4.5.1->ipywidgets) (6.0.4)\n",
      "Requirement already satisfied: traitlets>=4.3.1 in /Users/stevenfuller/Library/Python/3.8/lib/python/site-packages (from ipywidgets) (4.3.3)\n",
      "Requirement already satisfied: traitlets>=4.3.1 in /Users/stevenfuller/Library/Python/3.8/lib/python/site-packages (from ipywidgets) (4.3.3)\n",
      "Requirement already satisfied: ipython-genutils in /Users/stevenfuller/Library/Python/3.8/lib/python/site-packages (from nbformat>=4.2.0->ipywidgets) (0.2.0)\n",
      "Requirement already satisfied: jsonschema!=2.5.0,>=2.4 in /Users/stevenfuller/Library/Python/3.8/lib/python/site-packages (from nbformat>=4.2.0->ipywidgets) (3.2.0)\n",
      "Requirement already satisfied: jupyter-core>=4.6.0 in /Users/stevenfuller/Library/Python/3.8/lib/python/site-packages (from jupyter-client->ipykernel>=4.5.1->ipywidgets) (4.6.3)\n",
      "Requirement already satisfied: six>=1.11.0 in /Users/stevenfuller/Library/Python/3.8/lib/python/site-packages (from jsonschema!=2.5.0,>=2.4->nbformat>=4.2.0->ipywidgets) (1.14.0)\n",
      "Requirement already satisfied: attrs>=17.4.0 in /Users/stevenfuller/Library/Python/3.8/lib/python/site-packages (from jsonschema!=2.5.0,>=2.4->nbformat>=4.2.0->ipywidgets) (19.3.0)\n",
      "Requirement already satisfied: pyrsistent>=0.14.0 in /Users/stevenfuller/Library/Python/3.8/lib/python/site-packages (from jsonschema!=2.5.0,>=2.4->nbformat>=4.2.0->ipywidgets) (0.16.0)\n",
      "Requirement already satisfied: setuptools>=18.5 in /Library/Frameworks/Python.framework/Versions/3.8/lib/python3.8/site-packages (from ipython>=4.0.0->ipywidgets) (41.2.0)\n",
      "Requirement already satisfied: ptyprocess>=0.5 in /Users/stevenfuller/Library/Python/3.8/lib/python/site-packages (from pexpect->ipython>=4.0.0->ipywidgets) (0.6.0)\n",
      "Requirement already satisfied: wcwidth in /Users/stevenfuller/Library/Python/3.8/lib/python/site-packages (from prompt-toolkit!=3.0.0,!=3.0.1,<3.1.0,>=2.0.0->ipython>=4.0.0->ipywidgets) (0.1.9)\n",
      "Requirement already satisfied: six>=1.11.0 in /Users/stevenfuller/Library/Python/3.8/lib/python/site-packages (from jsonschema!=2.5.0,>=2.4->nbformat>=4.2.0->ipywidgets) (1.14.0)\n",
      "Requirement already satisfied: six>=1.11.0 in /Users/stevenfuller/Library/Python/3.8/lib/python/site-packages (from jsonschema!=2.5.0,>=2.4->nbformat>=4.2.0->ipywidgets) (1.14.0)\n",
      "Requirement already satisfied: decorator in /Library/Frameworks/Python.framework/Versions/3.8/lib/python3.8/site-packages (from ipython>=4.0.0->ipywidgets) (4.4.1)\n",
      "Requirement already satisfied: ipython-genutils in /Users/stevenfuller/Library/Python/3.8/lib/python/site-packages (from nbformat>=4.2.0->ipywidgets) (0.2.0)\n",
      "Requirement already satisfied: six>=1.11.0 in /Users/stevenfuller/Library/Python/3.8/lib/python/site-packages (from jsonschema!=2.5.0,>=2.4->nbformat>=4.2.0->ipywidgets) (1.14.0)\n",
      "Requirement already satisfied: notebook>=4.4.1 in /Users/stevenfuller/Library/Python/3.8/lib/python/site-packages (from widgetsnbextension~=3.5.0->ipywidgets) (6.0.3)\n",
      "Requirement already satisfied: Send2Trash in /Users/stevenfuller/Library/Python/3.8/lib/python/site-packages (from notebook>=4.4.1->widgetsnbextension~=3.5.0->ipywidgets) (1.5.0)\n",
      "Requirement already satisfied: ipython-genutils in /Users/stevenfuller/Library/Python/3.8/lib/python/site-packages (from nbformat>=4.2.0->ipywidgets) (0.2.0)\n",
      "Requirement already satisfied: pyzmq>=13 in /Users/stevenfuller/Library/Python/3.8/lib/python/site-packages (from jupyter-client->ipykernel>=4.5.1->ipywidgets) (19.0.1)\n",
      "Requirement already satisfied: jupyter-client in /Users/stevenfuller/Library/Python/3.8/lib/python/site-packages (from ipykernel>=4.5.1->ipywidgets) (6.1.3)\n",
      "Requirement already satisfied: nbconvert in /Users/stevenfuller/Library/Python/3.8/lib/python/site-packages (from notebook>=4.4.1->widgetsnbextension~=3.5.0->ipywidgets) (5.6.1)\n",
      "Requirement already satisfied: terminado>=0.8.1 in /Users/stevenfuller/Library/Python/3.8/lib/python/site-packages (from notebook>=4.4.1->widgetsnbextension~=3.5.0->ipywidgets) (0.8.3)\n",
      "Requirement already satisfied: tornado>=4.2 in /Users/stevenfuller/Library/Python/3.8/lib/python/site-packages (from ipykernel>=4.5.1->ipywidgets) (6.0.4)\n",
      "Requirement already satisfied: traitlets>=4.3.1 in /Users/stevenfuller/Library/Python/3.8/lib/python/site-packages (from ipywidgets) (4.3.3)\n",
      "Requirement already satisfied: ipykernel>=4.5.1 in /Users/stevenfuller/Library/Python/3.8/lib/python/site-packages (from ipywidgets) (5.3.0)\n",
      "Requirement already satisfied: prometheus-client in /Users/stevenfuller/Library/Python/3.8/lib/python/site-packages (from notebook>=4.4.1->widgetsnbextension~=3.5.0->ipywidgets) (0.8.0)\n",
      "Requirement already satisfied: jupyter-core>=4.6.0 in /Users/stevenfuller/Library/Python/3.8/lib/python/site-packages (from jupyter-client->ipykernel>=4.5.1->ipywidgets) (4.6.3)\n",
      "Requirement already satisfied: nbformat>=4.2.0 in /Users/stevenfuller/Library/Python/3.8/lib/python/site-packages (from ipywidgets) (5.0.6)\n",
      "Requirement already satisfied: jinja2 in /Users/stevenfuller/Library/Python/3.8/lib/python/site-packages (from notebook>=4.4.1->widgetsnbextension~=3.5.0->ipywidgets) (2.11.2)\n",
      "Requirement already satisfied: MarkupSafe>=0.23 in /Users/stevenfuller/Library/Python/3.8/lib/python/site-packages (from jinja2->notebook>=4.4.1->widgetsnbextension~=3.5.0->ipywidgets) (1.1.1)\n",
      "Requirement already satisfied: bleach in /Users/stevenfuller/Library/Python/3.8/lib/python/site-packages (from nbconvert->notebook>=4.4.1->widgetsnbextension~=3.5.0->ipywidgets) (3.1.5)\n",
      "Requirement already satisfied: mistune<2,>=0.8.1 in /Users/stevenfuller/Library/Python/3.8/lib/python/site-packages (from nbconvert->notebook>=4.4.1->widgetsnbextension~=3.5.0->ipywidgets) (0.8.4)\n",
      "Requirement already satisfied: jupyter-core>=4.6.0 in /Users/stevenfuller/Library/Python/3.8/lib/python/site-packages (from jupyter-client->ipykernel>=4.5.1->ipywidgets) (4.6.3)\n",
      "Requirement already satisfied: defusedxml in /Users/stevenfuller/Library/Python/3.8/lib/python/site-packages (from nbconvert->notebook>=4.4.1->widgetsnbextension~=3.5.0->ipywidgets) (0.6.0)\n",
      "Requirement already satisfied: jinja2 in /Users/stevenfuller/Library/Python/3.8/lib/python/site-packages (from notebook>=4.4.1->widgetsnbextension~=3.5.0->ipywidgets) (2.11.2)\n",
      "Requirement already satisfied: entrypoints>=0.2.2 in /Users/stevenfuller/Library/Python/3.8/lib/python/site-packages (from nbconvert->notebook>=4.4.1->widgetsnbextension~=3.5.0->ipywidgets) (0.3)\n",
      "Requirement already satisfied: pygments in /Users/stevenfuller/Library/Python/3.8/lib/python/site-packages (from ipython>=4.0.0->ipywidgets) (2.6.1)\n",
      "Requirement already satisfied: testpath in /Users/stevenfuller/Library/Python/3.8/lib/python/site-packages (from nbconvert->notebook>=4.4.1->widgetsnbextension~=3.5.0->ipywidgets) (0.4.4)\n",
      "Requirement already satisfied: traitlets>=4.3.1 in /Users/stevenfuller/Library/Python/3.8/lib/python/site-packages (from ipywidgets) (4.3.3)\n",
      "Requirement already satisfied: pandocfilters>=1.4.1 in /Users/stevenfuller/Library/Python/3.8/lib/python/site-packages (from nbconvert->notebook>=4.4.1->widgetsnbextension~=3.5.0->ipywidgets) (1.4.2)\n",
      "Requirement already satisfied: nbformat>=4.2.0 in /Users/stevenfuller/Library/Python/3.8/lib/python/site-packages (from ipywidgets) (5.0.6)\n",
      "Requirement already satisfied: packaging in /Users/stevenfuller/Library/Python/3.8/lib/python/site-packages (from bleach->nbconvert->notebook>=4.4.1->widgetsnbextension~=3.5.0->ipywidgets) (20.4)\n",
      "Requirement already satisfied: six>=1.11.0 in /Users/stevenfuller/Library/Python/3.8/lib/python/site-packages (from jsonschema!=2.5.0,>=2.4->nbformat>=4.2.0->ipywidgets) (1.14.0)\n",
      "Requirement already satisfied: webencodings in /Users/stevenfuller/Library/Python/3.8/lib/python/site-packages (from bleach->nbconvert->notebook>=4.4.1->widgetsnbextension~=3.5.0->ipywidgets) (0.5.1)\n",
      "Requirement already satisfied: pyparsing>=2.0.2 in /Library/Frameworks/Python.framework/Versions/3.8/lib/python3.8/site-packages (from packaging->bleach->nbconvert->notebook>=4.4.1->widgetsnbextension~=3.5.0->ipywidgets) (2.4.6)\n",
      "Requirement already satisfied: six>=1.11.0 in /Users/stevenfuller/Library/Python/3.8/lib/python/site-packages (from jsonschema!=2.5.0,>=2.4->nbformat>=4.2.0->ipywidgets) (1.14.0)\n",
      "Requirement already satisfied: ptyprocess>=0.5 in /Users/stevenfuller/Library/Python/3.8/lib/python/site-packages (from pexpect->ipython>=4.0.0->ipywidgets) (0.6.0)\n",
      "Requirement already satisfied: tornado>=4.2 in /Users/stevenfuller/Library/Python/3.8/lib/python/site-packages (from ipykernel>=4.5.1->ipywidgets) (6.0.4)\n",
      "\u001b[33mWARNING: You are using pip version 20.3.1; however, version 21.0.1 is available.\n",
      "You should consider upgrading via the '/Library/Frameworks/Python.framework/Versions/3.8/bin/python3 -m pip install --upgrade pip' command.\u001b[0m\n",
      "/bin/sh: jupyter: command not found\n",
      "/bin/sh: jupyter: command not found\n"
     ]
    }
   ],
   "source": [
    "# Here are all the installs and imports you will need for your word cloud script and uploader widget\n",
    "\n",
    "!pip3 install wordcloud\n",
    "!pip3 install fileupload\n",
    "!pip3 install ipywidgets\n",
    "!jupyter nbextension install --py --user fileupload\n",
    "!jupyter nbextension enable --py fileupload\n",
    "\n",
    "import wordcloud\n",
    "import numpy as np\n",
    "from matplotlib import pyplot as plt\n",
    "from IPython.display import display\n",
    "import fileupload\n",
    "import io\n",
    "import sys"
   ]
  },
  {
   "cell_type": "markdown",
   "metadata": {},
   "source": [
    "Whew! That was a lot. All of the installs and imports for your word cloud script and uploader widget have been completed. \n",
    "<br><br>\n",
    "**IMPORTANT!** If this was your first time running the above cell containing the installs and imports, you will need save this notebook now. Then under the File menu above,  select Close and Halt. When the notebook has completely shut down, reopen it. This is the only way the necessary changes will take affect.\n",
    "<br><br>\n",
    "To upload your text file, run the following cell that contains all the code for a custom uploader widget. Once you run this cell, a \"Browse\" button should appear below it. Click this button and navigate the window to locate your saved text file."
   ]
  },
  {
   "cell_type": "code",
   "execution_count": 2,
   "metadata": {},
   "outputs": [
    {
     "data": {
      "application/vnd.jupyter.widget-view+json": {
       "model_id": "69438a9a6ac546b6891bf6640f7746aa",
       "version_major": 2,
       "version_minor": 0
      },
      "text/plain": [
       "FileUploadWidget(label='Browse', _dom_classes=('widget_item', 'btn-group'))"
      ]
     },
     "metadata": {},
     "output_type": "display_data"
    }
   ],
   "source": [
    "# This is the uploader widget\n",
    "\n",
    "def _upload():\n",
    "\n",
    "    _upload_widget = fileupload.FileUploadWidget()\n",
    "\n",
    "    def _cb(change):\n",
    "        global file_contents\n",
    "        decoded = io.StringIO(change['owner'].data.decode('utf-8'))\n",
    "        filename = change['owner'].filename\n",
    "        print('Uploaded `{}` ({:.2f} kB)'.format(\n",
    "            filename, len(decoded.read()) / 2 **10))\n",
    "        file_contents = decoded.getvalue()\n",
    "\n",
    "    _upload_widget.observe(_cb, names='data')\n",
    "    display(_upload_widget)\n",
    "\n",
    "_upload()"
   ]
  },
  {
   "cell_type": "markdown",
   "metadata": {},
   "source": [
    "The uploader widget saved the contents of your uploaded file into a string object named *file_contents* that your word cloud script can process. This was a lot of preliminary work, but you are now ready to begin your script. "
   ]
  },
  {
   "cell_type": "markdown",
   "metadata": {},
   "source": [
    "Write a function in the cell below that iterates through the words in *file_contents*, removes punctuation, and counts the frequency of each word.  Oh, and be sure to make it ignore word case, words that do not contain all alphabets and boring words like \"and\" or \"the\".  Then use it in the `generate_from_frequencies` function to generate your very own word cloud!\n",
    "<br><br>\n",
    "**Hint:** Try storing the results of your iteration in a dictionary before passing them into wordcloud via the `generate_from_frequencies` function."
   ]
  },
  {
   "cell_type": "code",
   "execution_count": 16,
   "metadata": {},
   "outputs": [],
   "source": [
    "def calculate_frequencies(file_contents):\n",
    "    # Here is a list of punctuations and uninteresting words you can use to process your text\n",
    "    punctuations = '''!()-[]{};:'\"\\,<>./?@#$%^&*_~'''\n",
    "    uninteresting_words = [\"the\", \"a\", \"to\", \"if\", \"is\", \"it\", \"of\", \"and\", \"or\", \"an\", \"as\", \"i\", \"me\", \"my\", \\\n",
    "    \"we\", \"our\", \"ours\", \"you\", \"your\", \"yours\", \"he\", \"she\", \"him\", \"his\", \"her\", \"hers\", \"its\", \"they\", \"them\", \\\n",
    "    \"their\", \"what\", \"which\", \"who\", \"whom\", \"this\", \"that\", \"am\", \"are\", \"was\", \"were\", \"be\", \"been\", \"being\", \\\n",
    "    \"have\", \"has\", \"had\", \"do\", \"does\", \"did\", \"but\", \"at\", \"by\", \"with\", \"from\", \"here\", \"when\", \"where\", \"how\", \\\n",
    "    \"all\", \"any\", \"both\", \"each\", \"few\", \"more\", \"some\", \"such\", \"no\", \"nor\", \"too\", \"very\", \"can\", \"will\", \"just\"]\n",
    "    \n",
    "    # LEARNER CODE START HERE\n",
    "    result = {}\n",
    "    a = file_contents.split()\n",
    "    for word in a:\n",
    "        if word in uninteresting_words:\n",
    "            pass\n",
    "        else:\n",
    "            for letter in word:\n",
    "                if letter in punctuations:\n",
    "                    letter.replace(punctuations,\"\")\n",
    "            if word not in result.keys():\n",
    "                result[word]=0\n",
    "            else:\n",
    "                result[word]+=1    \n",
    "    #wordcloud\n",
    "    cloud = wordcloud.WordCloud()\n",
    "    cloud.generate_from_frequencies()\n",
    "    return cloud.to_array()"
   ]
  },
  {
   "cell_type": "markdown",
   "metadata": {},
   "source": [
    "If you have done everything correctly, your word cloud image should appear after running the cell below.  Fingers crossed!"
   ]
  },
  {
   "cell_type": "code",
   "execution_count": 17,
   "metadata": {},
   "outputs": [
    {
     "ename": "NameError",
     "evalue": "name 'file_contents' is not defined",
     "output_type": "error",
     "traceback": [
      "\u001b[0;31m---------------------------------------------------------------------------\u001b[0m",
      "\u001b[0;31mNameError\u001b[0m                                 Traceback (most recent call last)",
      "\u001b[0;32m<ipython-input-17-fd0f708f372c>\u001b[0m in \u001b[0;36m<module>\u001b[0;34m\u001b[0m\n\u001b[1;32m      1\u001b[0m \u001b[0;31m# Display your wordcloud image\u001b[0m\u001b[0;34m\u001b[0m\u001b[0;34m\u001b[0m\u001b[0;34m\u001b[0m\u001b[0m\n\u001b[1;32m      2\u001b[0m \u001b[0;34m\u001b[0m\u001b[0m\n\u001b[0;32m----> 3\u001b[0;31m \u001b[0mmyimage\u001b[0m \u001b[0;34m=\u001b[0m \u001b[0mcalculate_frequencies\u001b[0m\u001b[0;34m(\u001b[0m\u001b[0mfile_contents\u001b[0m\u001b[0;34m)\u001b[0m\u001b[0;34m\u001b[0m\u001b[0;34m\u001b[0m\u001b[0m\n\u001b[0m\u001b[1;32m      4\u001b[0m \u001b[0mplt\u001b[0m\u001b[0;34m.\u001b[0m\u001b[0mimshow\u001b[0m\u001b[0;34m(\u001b[0m\u001b[0mmyimage\u001b[0m\u001b[0;34m,\u001b[0m \u001b[0minterpolation\u001b[0m \u001b[0;34m=\u001b[0m \u001b[0;34m'nearest'\u001b[0m\u001b[0;34m)\u001b[0m\u001b[0;34m\u001b[0m\u001b[0;34m\u001b[0m\u001b[0m\n\u001b[1;32m      5\u001b[0m \u001b[0mplt\u001b[0m\u001b[0;34m.\u001b[0m\u001b[0maxis\u001b[0m\u001b[0;34m(\u001b[0m\u001b[0;34m'off'\u001b[0m\u001b[0;34m)\u001b[0m\u001b[0;34m\u001b[0m\u001b[0;34m\u001b[0m\u001b[0m\n",
      "\u001b[0;31mNameError\u001b[0m: name 'file_contents' is not defined"
     ]
    }
   ],
   "source": [
    "# Display your wordcloud image\n",
    "\n",
    "myimage = calculate_frequencies(file_contents)\n",
    "plt.imshow(myimage, interpolation = 'nearest')\n",
    "plt.axis('off')\n",
    "plt.show()"
   ]
  },
  {
   "cell_type": "markdown",
   "metadata": {},
   "source": [
    "### If your word cloud image did not appear, go back and rework your `calculate_frequencies` function until you get the desired output.  Definitely check that you passed your frequecy count dictionary into the `generate_from_frequencies` function of `wordcloud`. Once you have correctly displayed your word cloud image, you are all done with this project. Nice work!"
   ]
  },
  {
   "cell_type": "code",
   "execution_count": null,
   "metadata": {},
   "outputs": [],
   "source": []
  }
 ],
 "metadata": {
  "kernelspec": {
   "display_name": "Python 3",
   "language": "python",
   "name": "python3"
  },
  "language_info": {
   "codemirror_mode": {
    "name": "ipython",
    "version": 3
   },
   "file_extension": ".py",
   "mimetype": "text/x-python",
   "name": "python",
   "nbconvert_exporter": "python",
   "pygments_lexer": "ipython3",
   "version": "3.8.3"
  }
 },
 "nbformat": 4,
 "nbformat_minor": 4
}
