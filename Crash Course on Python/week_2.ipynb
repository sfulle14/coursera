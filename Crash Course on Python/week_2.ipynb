{
 "cells": [
  {
   "cell_type": "code",
   "execution_count": 1,
   "metadata": {},
   "outputs": [
    {
     "name": "stdout",
     "output_type": "stream",
     "text": [
      "<class 'str'>\n"
     ]
    }
   ],
   "source": [
    "print(type('a'))"
   ]
  },
  {
   "cell_type": "code",
   "execution_count": 2,
   "metadata": {},
   "outputs": [
    {
     "name": "stdout",
     "output_type": "stream",
     "text": [
      "<class 'int'>\n"
     ]
    }
   ],
   "source": [
    "print(type(1))"
   ]
  },
  {
   "cell_type": "code",
   "execution_count": 3,
   "metadata": {},
   "outputs": [
    {
     "name": "stdout",
     "output_type": "stream",
     "text": [
      "<class 'float'>\n"
     ]
    }
   ],
   "source": [
    "print(type(1.0))"
   ]
  },
  {
   "cell_type": "code",
   "execution_count": 4,
   "metadata": {},
   "outputs": [
    {
     "name": "stdout",
     "output_type": "stream",
     "text": [
      "20\n"
     ]
    }
   ],
   "source": [
    "length = 10\n",
    "width = 2\n",
    "area = length * width\n",
    "print(area)"
   ]
  },
  {
   "cell_type": "code",
   "execution_count": 6,
   "metadata": {},
   "outputs": [
    {
     "name": "stdout",
     "output_type": "stream",
     "text": [
      "15.5\n"
     ]
    }
   ],
   "source": [
    "# implicit conversion\n",
    "print(7+8.5)"
   ]
  },
  {
   "cell_type": "code",
   "execution_count": 9,
   "metadata": {},
   "outputs": [
    {
     "name": "stdout",
     "output_type": "stream",
     "text": [
      "The area of the triangle is 9.0\n"
     ]
    }
   ],
   "source": [
    "base = 6\n",
    "height = 3\n",
    "area = (base*height)/2\n",
    "# explicit conversion\n",
    "print(\"The area of the triangle is \" + str(area))"
   ]
  },
  {
   "cell_type": "code",
   "execution_count": 12,
   "metadata": {},
   "outputs": [],
   "source": [
    "def greeting(name, department):\n",
    "    print('Welcome, ' + name)\n",
    "    print('You are part of ' + department)"
   ]
  },
  {
   "cell_type": "code",
   "execution_count": 14,
   "metadata": {},
   "outputs": [
    {
     "name": "stdout",
     "output_type": "stream",
     "text": [
      "Welcome, steven\n",
      "You are part of IT\n"
     ]
    }
   ],
   "source": [
    "greeting('steven', 'IT')"
   ]
  },
  {
   "cell_type": "code",
   "execution_count": 15,
   "metadata": {},
   "outputs": [
    {
     "name": "stdout",
     "output_type": "stream",
     "text": [
      "3723\n"
     ]
    }
   ],
   "source": [
    "\"\"\"\n",
    "Do you think you can flesh out your own function? I think you can! Let’s give it a go. \n",
    "\n",
    "Flesh out the body of the print_seconds function so that it prints the total amount of seconds \n",
    "given the hours, minutes, and seconds function parameters. Remember that there are 3600 \n",
    "seconds in an hour and 60 seconds in a minute.\n",
    "\"\"\"\n",
    "\n",
    "def print_seconds(hours, minutes, seconds):\n",
    "    hours_to_seconds = hours * 3600\n",
    "    minutes_to_seconds = minutes * 60\n",
    "    total_seconds = hours_to_seconds + minutes_to_seconds + seconds\n",
    "    print(total_seconds)\n",
    "\n",
    "print_seconds(1,2,3)"
   ]
  },
  {
   "cell_type": "code",
   "execution_count": 17,
   "metadata": {},
   "outputs": [
    {
     "name": "stdout",
     "output_type": "stream",
     "text": [
      "The sum of both areas is: 20.5\n"
     ]
    }
   ],
   "source": [
    "def area_triangle(base, height):\n",
    "    return base*height/2\n",
    "    \n",
    "area_a = area_triangle(5,4)\n",
    "area_b = area_triangle(7,3)\n",
    "sum = area_a + area_b\n",
    "print('The sum of both areas is: ' +str(sum))"
   ]
  },
  {
   "cell_type": "code",
   "execution_count": 23,
   "metadata": {},
   "outputs": [],
   "source": [
    "def hint_usermane(username):\n",
    "    if len(username) < 3:\n",
    "        print('Invalid username. Must be at least 3 charaters long.')\n",
    "    elif len(username) > 15:\n",
    "        print('Invalid username. Must be at most 15 characters long')\n",
    "    else:\n",
    "        print('Valid username.')"
   ]
  },
  {
   "cell_type": "code",
   "execution_count": 24,
   "metadata": {},
   "outputs": [
    {
     "name": "stdout",
     "output_type": "stream",
     "text": [
      "Positive\n",
      "Zero\n",
      "Negative\n"
     ]
    }
   ],
   "source": [
    "\"\"\"\n",
    "The number_group function should return \"Positive\" if the number received is positive, \n",
    "\"Negative\" if it's negative, and \"Zero\" if it's 0. Can you fill in the gaps to make that happen?\n",
    "\"\"\"\n",
    "\n",
    "def number_group(number):\n",
    "  if number > 0:\n",
    "    return \"Positive\"\n",
    "  elif number < 0:\n",
    "    return 'Negative'\n",
    "  else:\n",
    "    return 'Zero'\n",
    "\n",
    "print(number_group(10)) #Should be Positive\n",
    "print(number_group(0)) #Should be Zero\n",
    "print(number_group(-5)) #Should be Negative"
   ]
  },
  {
   "cell_type": "code",
   "execution_count": 25,
   "metadata": {},
   "outputs": [
    {
     "data": {
      "text/plain": [
       "False"
      ]
     },
     "execution_count": 25,
     "metadata": {},
     "output_type": "execute_result"
    }
   ],
   "source": [
    "\"big\" > \"small\""
   ]
  },
  {
   "cell_type": "code",
   "execution_count": 26,
   "metadata": {},
   "outputs": [
    {
     "data": {
      "text/plain": [
       "True"
      ]
     },
     "execution_count": 26,
     "metadata": {},
     "output_type": "execute_result"
    }
   ],
   "source": [
    "((10 >= 5*2) and (10 <= 5*2))"
   ]
  },
  {
   "cell_type": "code",
   "execution_count": 44,
   "metadata": {},
   "outputs": [
    {
     "name": "stdout",
     "output_type": "stream",
     "text": [
      "0.0\n",
      "0.25\n",
      "0.6666666666666666\n",
      "0.5\n",
      "0\n",
      "0\n"
     ]
    }
   ],
   "source": [
    "def fractional_part(numerator, denominator):\n",
    "\t# Operate with numerator and denominator to \n",
    "# keep just the fractional part of the quotient\n",
    "\tif denominator == 0 or numerator == 0:\n",
    "\t\treturn 0\n",
    "\telse:\n",
    "\t\tremainder = numerator % denominator\n",
    "\t\treturn remainder / denominator\n",
    "print(fractional_part(5, 5)) # Should be 0\n",
    "print(fractional_part(5, 4)) # Should be 0.25\n",
    "print(fractional_part(5, 3)) # Should be 0.66...\n",
    "print(fractional_part(5, 2)) # Should be 0.5\n",
    "print(fractional_part(5, 0)) # Should be 0\n",
    "print(fractional_part(0, 5)) # Should be 0"
   ]
  }
 ],
 "metadata": {
  "kernelspec": {
   "display_name": "Python 3",
   "language": "python",
   "name": "python3"
  },
  "language_info": {
   "codemirror_mode": {
    "name": "ipython",
    "version": 3
   },
   "file_extension": ".py",
   "mimetype": "text/x-python",
   "name": "python",
   "nbconvert_exporter": "python",
   "pygments_lexer": "ipython3",
   "version": "3.8.3"
  }
 },
 "nbformat": 4,
 "nbformat_minor": 4
}
